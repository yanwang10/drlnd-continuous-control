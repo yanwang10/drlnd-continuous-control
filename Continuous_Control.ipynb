{
 "cells": [
  {
   "cell_type": "markdown",
   "metadata": {},
   "source": [
    "# Continuous Control\n",
    "\n",
    "---\n",
    "\n",
    "In this notebook, you will learn how to use the Unity ML-Agents environment for the second project of the [Deep Reinforcement Learning Nanodegree](https://www.udacity.com/course/deep-reinforcement-learning-nanodegree--nd893) program.\n",
    "\n",
    "### 1. Start the Environment\n",
    "\n",
    "We begin by importing the necessary packages.  If the code cell below returns an error, please revisit the project instructions to double-check that you have installed [Unity ML-Agents](https://github.com/Unity-Technologies/ml-agents/blob/master/docs/Installation.md) and [NumPy](http://www.numpy.org/)."
   ]
  },
  {
   "cell_type": "code",
   "execution_count": 1,
   "metadata": {},
   "outputs": [],
   "source": [
    "from unityagents import UnityEnvironment\n",
    "import numpy as np"
   ]
  },
  {
   "cell_type": "markdown",
   "metadata": {},
   "source": [
    "Next, we will start the environment!  **_Before running the code cell below_**, change the `file_name` parameter to match the location of the Unity environment that you downloaded.\n",
    "\n",
    "- **Mac**: `\"path/to/Reacher.app\"`\n",
    "- **Windows** (x86): `\"path/to/Reacher_Windows_x86/Reacher.exe\"`\n",
    "- **Windows** (x86_64): `\"path/to/Reacher_Windows_x86_64/Reacher.exe\"`\n",
    "- **Linux** (x86): `\"path/to/Reacher_Linux/Reacher.x86\"`\n",
    "- **Linux** (x86_64): `\"path/to/Reacher_Linux/Reacher.x86_64\"`\n",
    "- **Linux** (x86, headless): `\"path/to/Reacher_Linux_NoVis/Reacher.x86\"`\n",
    "- **Linux** (x86_64, headless): `\"path/to/Reacher_Linux_NoVis/Reacher.x86_64\"`\n",
    "\n",
    "For instance, if you are using a Mac, then you downloaded `Reacher.app`.  If this file is in the same folder as the notebook, then the line below should appear as follows:\n",
    "```\n",
    "env = UnityEnvironment(file_name=\"Reacher.app\")\n",
    "```"
   ]
  },
  {
   "cell_type": "code",
   "execution_count": 2,
   "metadata": {},
   "outputs": [
    {
     "name": "stderr",
     "output_type": "stream",
     "text": [
      "INFO:unityagents:\n",
      "'Academy' started successfully!\n",
      "Unity Academy name: Academy\n",
      "        Number of Brains: 1\n",
      "        Number of External Brains : 1\n",
      "        Lesson number : 0\n",
      "        Reset Parameters :\n",
      "\t\tgoal_size -> 5.0\n",
      "\t\tgoal_speed -> 1.0\n",
      "Unity brain name: ReacherBrain\n",
      "        Number of Visual Observations (per agent): 0\n",
      "        Vector Observation space type: continuous\n",
      "        Vector Observation space size (per agent): 33\n",
      "        Number of stacked Vector Observation: 1\n",
      "        Vector Action space type: continuous\n",
      "        Vector Action space size (per agent): 4\n",
      "        Vector Action descriptions: , , , \n"
     ]
    }
   ],
   "source": [
    "env = UnityEnvironment(file_name='Reacher_One_Linux_NoVis/Reacher_One_Linux_NoVis.x86_64')"
   ]
  },
  {
   "cell_type": "markdown",
   "metadata": {},
   "source": [
    "Environments contain **_brains_** which are responsible for deciding the actions of their associated agents. Here we check for the first brain available, and set it as the default brain we will be controlling from Python."
   ]
  },
  {
   "cell_type": "code",
   "execution_count": 3,
   "metadata": {},
   "outputs": [],
   "source": [
    "# get the default brain\n",
    "brain_name = env.brain_names[0]\n",
    "brain = env.brains[brain_name]"
   ]
  },
  {
   "cell_type": "markdown",
   "metadata": {},
   "source": [
    "### 2. Examine the State and Action Spaces\n",
    "\n",
    "In this environment, a double-jointed arm can move to target locations. A reward of `+0.1` is provided for each step that the agent's hand is in the goal location. Thus, the goal of your agent is to maintain its position at the target location for as many time steps as possible.\n",
    "\n",
    "The observation space consists of `33` variables corresponding to position, rotation, velocity, and angular velocities of the arm.  Each action is a vector with four numbers, corresponding to torque applicable to two joints.  Every entry in the action vector must be a number between `-1` and `1`.\n",
    "\n",
    "Run the code cell below to print some information about the environment."
   ]
  },
  {
   "cell_type": "code",
   "execution_count": 4,
   "metadata": {},
   "outputs": [
    {
     "name": "stdout",
     "output_type": "stream",
     "text": [
      "Number of agents: 1\n",
      "Size of each action: 4\n",
      "There are 1 agents. Each observes a state with length: 33\n",
      "The state for the first agent looks like: [ 0.00000000e+00 -4.00000000e+00  0.00000000e+00  1.00000000e+00\n",
      " -0.00000000e+00 -0.00000000e+00 -4.37113883e-08  0.00000000e+00\n",
      "  0.00000000e+00  0.00000000e+00  0.00000000e+00  0.00000000e+00\n",
      "  0.00000000e+00  0.00000000e+00 -1.00000000e+01  0.00000000e+00\n",
      "  1.00000000e+00 -0.00000000e+00 -0.00000000e+00 -4.37113883e-08\n",
      "  0.00000000e+00  0.00000000e+00  0.00000000e+00  0.00000000e+00\n",
      "  0.00000000e+00  0.00000000e+00  5.75471878e+00 -1.00000000e+00\n",
      "  5.55726671e+00  0.00000000e+00  1.00000000e+00  0.00000000e+00\n",
      " -1.68164849e-01]\n"
     ]
    }
   ],
   "source": [
    "# reset the environment\n",
    "env_info = env.reset(train_mode=True)[brain_name]\n",
    "\n",
    "# number of agents\n",
    "num_agents = len(env_info.agents)\n",
    "print('Number of agents:', num_agents)\n",
    "\n",
    "# size of each action\n",
    "action_size = brain.vector_action_space_size\n",
    "print('Size of each action:', action_size)\n",
    "\n",
    "# examine the state space \n",
    "states = env_info.vector_observations\n",
    "state_size = states.shape[1]\n",
    "print('There are {} agents. Each observes a state with length: {}'.format(states.shape[0], state_size))\n",
    "print('The state for the first agent looks like:', states[0])"
   ]
  },
  {
   "cell_type": "markdown",
   "metadata": {},
   "source": [
    "### 3. Take Random Actions in the Environment\n",
    "\n",
    "In the next code cell, you will learn how to use the Python API to control the agent and receive feedback from the environment.\n",
    "\n",
    "Once this cell is executed, you will watch the agent's performance, if it selects an action at random with each time step.  A window should pop up that allows you to observe the agent, as it moves through the environment.  \n",
    "\n",
    "Of course, as part of the project, you'll have to change the code so that the agent is able to use its experience to gradually choose better actions when interacting with the environment!"
   ]
  },
  {
   "cell_type": "code",
   "execution_count": null,
   "metadata": {},
   "outputs": [],
   "source": [
    "env_info = env.reset(train_mode=False)[brain_name]     # reset the environment    \n",
    "states = env_info.vector_observations                  # get the current state (for each agent)\n",
    "scores = np.zeros(num_agents)                          # initialize the score (for each agent)\n",
    "while True:\n",
    "    actions = np.random.randn(num_agents, action_size) # select an action (for each agent)\n",
    "    actions = np.clip(actions, -1, 1)                  # all actions between -1 and 1\n",
    "    env_info = env.step(actions)[brain_name]           # send all actions to tne environment\n",
    "    next_states = env_info.vector_observations         # get next state (for each agent)\n",
    "    rewards = env_info.rewards                         # get reward (for each agent)\n",
    "    dones = env_info.local_done                        # see if episode finished\n",
    "    scores += env_info.rewards                         # update the score (for each agent)\n",
    "    states = next_states                               # roll over states to next time step\n",
    "    if np.any(dones):                                  # exit loop if episode finished\n",
    "        break\n",
    "print('Total score (averaged over agents) this episode: {}'.format(np.mean(scores)))"
   ]
  },
  {
   "cell_type": "markdown",
   "metadata": {},
   "source": [
    "When finished, you can close the environment."
   ]
  },
  {
   "cell_type": "code",
   "execution_count": null,
   "metadata": {},
   "outputs": [],
   "source": [
    "env.close()"
   ]
  },
  {
   "cell_type": "markdown",
   "metadata": {},
   "source": [
    "### 4. It's Your Turn!\n",
    "\n",
    "Now it's your turn to train your own agent to solve the environment!  When training the environment, set `train_mode=True`, so that the line for resetting the environment looks like the following:\n",
    "```python\n",
    "env_info = env.reset(train_mode=True)[brain_name]\n",
    "```"
   ]
  },
  {
   "cell_type": "code",
   "execution_count": 5,
   "metadata": {},
   "outputs": [],
   "source": [
    "%load_ext autoreload"
   ]
  },
  {
   "cell_type": "code",
   "execution_count": null,
   "metadata": {},
   "outputs": [],
   "source": [
    "%autoreload 2\n",
    "import numpy as np\n",
    "import matplotlib.pyplot as plt\n",
    "import random\n",
    "import copy\n",
    "%matplotlib inline\n",
    "\n",
    "class OUNoise:\n",
    "    \"\"\"\n",
    "    Ornstein-Uhlenbeck process.\n",
    "    Copied from Udacity DDPG mini project:\n",
    "    https://github.com/udacity/deep-reinforcement-learning/blob/d6cb43c1b11b1d55c13ac86d6002137c7b880c15/ddpg-pendulum/ddpg_agent.py\n",
    "    \"\"\"\n",
    "\n",
    "    def __init__(self, size, seed, mu=0., theta=0.15, sigma=0.2):\n",
    "        \"\"\"Initialize parameters and noise process.\"\"\"\n",
    "        self.mu = mu * np.ones(size)\n",
    "        self.theta = theta\n",
    "        self.sigma = sigma\n",
    "        self.seed = random.seed(seed)\n",
    "        self.reset()\n",
    "        \n",
    "\n",
    "    def reset(self):\n",
    "        \"\"\"Reset the internal state (= noise) to mean (mu).\"\"\"\n",
    "        self.state = copy.copy(self.mu)\n",
    "        for _ in range(10):\n",
    "            self.sample()\n",
    "\n",
    "    def sample(self):\n",
    "        \"\"\"Update internal state and return it as a noise sample.\"\"\"\n",
    "        x = self.state\n",
    "        dx = self.theta * (self.mu - x) + self.sigma * np.array([random.random() for i in range(len(x))])\n",
    "        self.state = x + dx\n",
    "        return self.state\n",
    "\n",
    "ounoise = OUNoise(1, 12333)\n",
    "x = [ounoise.sample() for _ in range(10000)]\n",
    "plt.plot(x)\n"
   ]
  },
  {
   "cell_type": "code",
   "execution_count": 20,
   "metadata": {},
   "outputs": [
    {
     "name": "stdout",
     "output_type": "stream",
     "text": [
      "Using unity env with brain name \"ReacherBrain\"\n",
      "ReacherBrain\n"
     ]
    },
    {
     "ename": "TypeError",
     "evalue": "super(type, obj): obj must be an instance or subtype of type",
     "output_type": "error",
     "traceback": [
      "\u001b[0;31m---------------------------------------------------------------------------\u001b[0m",
      "\u001b[0;31mTypeError\u001b[0m                                 Traceback (most recent call last)",
      "\u001b[0;32m<ipython-input-20-031d4f47a54d>\u001b[0m in \u001b[0;36m<module>\u001b[0;34m\u001b[0m\n\u001b[1;32m     13\u001b[0m }\n\u001b[1;32m     14\u001b[0m \u001b[0mprint\u001b[0m\u001b[0;34m(\u001b[0m\u001b[0mbrain_name\u001b[0m\u001b[0;34m)\u001b[0m\u001b[0;34m\u001b[0m\u001b[0;34m\u001b[0m\u001b[0m\n\u001b[0;32m---> 15\u001b[0;31m \u001b[0magent\u001b[0m \u001b[0;34m=\u001b[0m \u001b[0mDDPGAgent\u001b[0m\u001b[0;34m(\u001b[0m\u001b[0mconfig\u001b[0m\u001b[0;34m)\u001b[0m\u001b[0;34m\u001b[0m\u001b[0;34m\u001b[0m\u001b[0m\n\u001b[0m\u001b[1;32m     16\u001b[0m \u001b[0;34m\u001b[0m\u001b[0m\n\u001b[1;32m     17\u001b[0m \u001b[0mmax_episode\u001b[0m \u001b[0;34m=\u001b[0m \u001b[0;36m1000\u001b[0m\u001b[0;34m\u001b[0m\u001b[0;34m\u001b[0m\u001b[0m\n",
      "\u001b[0;32m~/workspace/drlnd/deep-reinforcement-learning/p2_continuous-control/src/ddpg.py\u001b[0m in \u001b[0;36m__init__\u001b[0;34m(self, config)\u001b[0m\n\u001b[1;32m     89\u001b[0m     \"\"\"\n\u001b[1;32m     90\u001b[0m     \u001b[0;32mdef\u001b[0m \u001b[0m__init__\u001b[0m\u001b[0;34m(\u001b[0m\u001b[0mself\u001b[0m\u001b[0;34m,\u001b[0m \u001b[0mconfig\u001b[0m\u001b[0;34m)\u001b[0m\u001b[0;34m:\u001b[0m\u001b[0;34m\u001b[0m\u001b[0;34m\u001b[0m\u001b[0m\n\u001b[0;32m---> 91\u001b[0;31m         \u001b[0msuper\u001b[0m\u001b[0;34m(\u001b[0m\u001b[0mDDPGAgent\u001b[0m\u001b[0;34m,\u001b[0m \u001b[0mself\u001b[0m\u001b[0;34m)\u001b[0m\u001b[0;34m.\u001b[0m\u001b[0m__init__\u001b[0m\u001b[0;34m(\u001b[0m\u001b[0mconfig\u001b[0m\u001b[0;34m,\u001b[0m \u001b[0mDEFAULT_CONFIG\u001b[0m\u001b[0;34m)\u001b[0m\u001b[0;34m\u001b[0m\u001b[0;34m\u001b[0m\u001b[0m\n\u001b[0m\u001b[1;32m     92\u001b[0m         \u001b[0mstate_size\u001b[0m \u001b[0;34m=\u001b[0m \u001b[0mself\u001b[0m\u001b[0;34m.\u001b[0m\u001b[0mget\u001b[0m\u001b[0;34m(\u001b[0m\u001b[0;34m'state_size'\u001b[0m\u001b[0;34m)\u001b[0m\u001b[0;34m\u001b[0m\u001b[0;34m\u001b[0m\u001b[0m\n\u001b[1;32m     93\u001b[0m         \u001b[0maction_size\u001b[0m \u001b[0;34m=\u001b[0m \u001b[0mself\u001b[0m\u001b[0;34m.\u001b[0m\u001b[0mget\u001b[0m\u001b[0;34m(\u001b[0m\u001b[0;34m'action_size'\u001b[0m\u001b[0;34m)\u001b[0m\u001b[0;34m\u001b[0m\u001b[0;34m\u001b[0m\u001b[0m\n",
      "\u001b[0;31mTypeError\u001b[0m: super(type, obj): obj must be an instance or subtype of type"
     ]
    }
   ],
   "source": [
    "%autoreload 2\n",
    "from src import *\n",
    "\n",
    "env_info = env.reset(train_mode=True)[brain_name]\n",
    "wrapped_env = EnvWrapper(unity_env=env, brain_name=brain_name)\n",
    "\n",
    "config = {\n",
    "    'state_size': 33,\n",
    "    'action_size': 4,\n",
    "    'tau': 1e-3,\n",
    "    'actor_lr': 1e-3,\n",
    "    'critic_lr': 1e-3,\n",
    "}\n",
    "print(brain_name)\n",
    "agent = DDPGAgent(config)\n",
    "\n",
    "max_episode = 1000\n",
    "logger = RLTrainingLogger(window_size=100)\n",
    "\n",
    "for _ in range(max_episode):\n",
    "    state = env.reset()\n",
    "    done = False\n",
    "    rewards = 0.0\n",
    "    logger.episode_begin()\n",
    "    actions = []\n",
    "    while not done:\n",
    "        action = agent.act(state)\n",
    "        if len(actions) == 10:\n",
    "            # print(' '.join(actions))\n",
    "            actions = list()\n",
    "        actions.append('%.2f' % action)\n",
    "        next_state, reward, done = env.step(action * 2)\n",
    "        rewards += reward\n",
    "        agent.step(state, action, reward, next_state, done)\n",
    "        state = next_state\n",
    "    logger.episode_end(rewards)\n",
    "    agent.reset()\n",
    "\n"
   ]
  },
  {
   "cell_type": "code",
   "execution_count": null,
   "metadata": {},
   "outputs": [
    {
     "name": "stdout",
     "output_type": "stream",
     "text": [
      "\u001b[1B26641 \u001b[30m\u001b[40m\u001b[1mroot      \u001b[m\u001b[m 20   0 \u001b[36m18\u001b[m\u001b[m760 \u001b[36m 4\u001b[m\u001b[m048 \u001b[36m 2\u001b[m\u001b[m296 S  0.7  0.0  0:06.59 /root/.c9/bin/tmu\u001b[1;1H36m 4\u001b[m\u001b[m852 \u001b[36m 3\u001b[m\u001b[m060\u001b[6C7\u001b[14;58H49.90 redis-server 127.\u001b[15;2H8985 \u001b[30m\u001b[40m\u001b[1mroot      \u001b[15;26H\u001b[m\u001b[36m4\u001b[m\u001b[m504 \u001b[36m 1\u001b[m\u001b[m624 \u001b[36m 1\u001b[m\u001b[m504\u001b[15;53H0  0:14.63 /bin/sh /snap/nex\u001b[1;1H \u001b[36m 5\u001b[m\u001b[m960 S  0.0  0.0  0:01.63 /usr/lib/accounts\u001b[19;2H1170 \u001b[30m\u001b[40m\u001b[1mroot      \u001b[m\u001b[m 20   0 \u001b[36m30\u001b[m\u001b[m028 \u001b[36m 3\u001b[m\u001b[m176 \u001b[36m 2\u001b[m\u001b[m888 S  0.0  0.0  0:00.11 /usr/sbin/cron -f\u001b[20;2H1182 \u001b[30m\u001b[40m\u001b[1mroot      \u001b[m\u001b[m 20   0 \u001b[36m70\u001b[m\u001b[m588 \u001b[36m 6\u001b[m\u001b[m220 \u001b[36m 5\u001b[m\u001b[m440 S  0.0  0.0  0:00.46 /lib/systemd/syst\u001b[21;2H1360 \u001b[30m\u001b[40m\u001b[1mroot      \u001b[m\u001b[m 20   0 \u001b[36m 230M  2\u001b[m\u001b[m484 \u001b[36m 1\u001b[m\u001b[m500 S  0.0  0.0  0:00.43 \u001b[32m/usr/bin/lxcfs /v\u001b[22;2H\u001b[m\u001b[m1362 \u001b[30m\u001b[40m\u001b[1mroot      \u001b[m\u001b[m 20   0 \u001b[36m 230M  2\u001b[m\u001b[m484 \u001b[36m 1\u001b[m\u001b[m500 S  0.0  0.0  0:00.43 \u001b[32m/usr/bin/lxcfs /v\u001b[23;1H\u001b[m\u001b[m21303 \u001b[30m\u001b[40m\u001b[1mroot      \u001b[m\u001b[m 20   0 \u001b[36m 230M  2\u001b[m\u001b[m484 \u001b[36m 1\u001b[m\u001b[m500 S  0.0  0.0  0:00.38 \u001b[32m/usr/bin/lxcfs /v\u001b[24;1H\u001b[m\u001b[mF1\u001b[30m\u001b[46mHelp  \u001b[m\u001b[mF2\u001b[30m\u001b[46mSetup \u001b[m\u001b[mF3\u001b[30m\u001b[46mSearch\u001b[m\u001b[mF4\u001b[30m\u001b[46mFilter\u001b[m\u001b[mF5\u001b[30m\u001b[46mTree  \u001b[m\u001b[mF6\u001b[30m\u001b[46mSortBy\u001b[m\u001b[mF7\u001b[30m\u001b[46mNice -\u001b[m\u001b[mF8\u001b[30m\u001b[46mNice +\u001b[m\u001b[mF9\u001b[30m\u001b[46mKill  \u001b[m\u001b[mF10\u001b[30m\u001b[46mQui\u001b[4ht\u001b[4l\u001b[H\u001b[m\u001b[m\u001b[11;23r\u001b[11;1H\u001b[4L\u001b[1;24r\u001b[2;7H\u001b[32m|\u001b[2;35H\u001b[30m\u001b[40m\u001b[1m7\u001b[2;61H\u001b[m\u001b[32m1\u001b[4;8H\u001b[30m\u001b[40m                         0.7%\u001b[4;63H\u001b[m\u001b[36m6\u001b[5;7H\u001b[m\u001b[32m|\u001b[31m|\u001b[5;33H\u001b[30m\u001b[40m\u001b[1m3.3\u001b[10;4H\u001b[m\u001b[30m\u001b[46m54\u001b[10;25H 549M 49148 15084 S  4.0  0.3\u001b[7C42 /home/wy/anaconda\u001b[11;2H\u001b[m\u001b[m3464 wy\u001b[11;18H20   0 \u001b[36m 549M 49\u001b[m\u001b[m148 \u001b[36m15\u001b[m\u001b[m084 S  2.0  0.3  0:00.03 \u001b[32m/home/wy/anaconda\u001b[12;2H\u001b[m\u001b[m3491 wy\u001b[12;18H20   0 \u001b[36m32\u001b[m\u001b[m092 \u001b[36m 4\u001b[m\u001b[m516 \u001b[36m 3\u001b[m\u001b[m800 \u001b[32mR \u001b[m\u001b[m 1.3  0.0  0:00.05 htop\u001b[13;23r\u001b[13;1H\u001bM\u001b[1;24r\u001b[2;8H\u001b[31m|\u001b[2;33H\u001b[30m\u001b[40m\u001b[1m1.3\u001b[4;7H\u001b[m\u001b[31m|\u001b[4;63H\u001b[36m\u001b[1m8\u001b[5;8H\u001b[30m\u001b[40m \u001b[5;33H2.0\u001b[\u001b[m\u001b[30m\u001b[46m64\u001b[10;62H8\u001b[11;34H\u001b[m\u001b[m64\u001b[11;46H3.3\u001b[11;62H8\u001b[12;46H0.7\u001b[12;62H6\u001b[2;7H\u001b[30m\u001b[40m\u001b[1m  \u001b[2;33H0.0\u001b[3;7H\u001b[m\u001b[32m|\u001b[31m|\u001b[3;33H\u001b[30m\u001b[40m\u001b[1m1.3\u001b[4;63H\u001b[m\u001b[36m9\u001b[5;8H\u001b[m\u001b[31m|\u001b[5;33H\u001b[30m\u001b[40m\u001b[1m3.3\u001b[10;61H\u001b[m\u001b[30m\u001b[46m54\u001b[11;46H\u001b[m\u001b[m2.6\u001b[11;61H12\u001b[17\u001b[13;48H0\u001b[H\u001b[13;23r\u001b[13;1H\u001bM\u001b[1;24r\u001b[2;7H\u001b[31m|\u001b[2;35H\u001b[30m\u001b[40m\u001b[1m7\u001b[3;8H \u001b[3;33H0.7\u001b[4;7H\u001b[m\u001b[32m|\u001b[31m|\u001b[4;33H\u001b[30m\u001b[40m\u001b[1m1.3\u001b[4;62H\u001b[m\u001b[36m21\u001b[10;61H\u001b[m\u001b[30m\u001b[46m60\u001b[11;48H\u001b[m\u001b[m0\u001b[11;62H5\u001b[18\u001b[12;15r\u001b[12;1H\u001bM\u001b[1;24r\u001b[2;7H\u001b[30m\u001b[40m\u001b[1m \u001b[2;35H0\u001b[3;33H1.3\u001b[4;7H\u001b[m\u001b[31m|\u001b[30m\u001b[40m\u001b[1m \u001b[4;33H0.7\u001b[4;63H\u001b[m\u001b[36m2\u001b[5;8H\u001b[30m\u001b[40m \u001b[5;33H2.0\u001b[10;33H\u001b[m\u001b[30m\u001b[46m220\u001b[10;46H3.3\u001b[10;62H5\u001b[11;33H\u001b[m\u001b[m220\u001b[11;48H7\u001b[11;62H9\u001b[12;23r\u001b[12;1H\u001bM\u001b[1;24r\u001b[2;7H\u001b[32m|\u001b[2;35H\u001b[30m\u001b[40m\u001b[1m7\u001b[3;7H\u001b[m\u001b[31m|\u001b[3;33H\u001b[30m\u001b[40m\u001b[1m0.7\u001b[3;58H\u001b[m4\u001b[4;7H\u001b[m\u001b[32m|\u001b[4;63H\u001b[36m\u001b[1m4\u001b[5;8H\u001b[m\u001b[31m|\u001b[5;35H\u001b[30m\u001b[40m\u001b[1m6\u001b[10;46H\u001b[m\u001b[30m\u001b[46m4.0\u001b[10;61H71\u001b[11;48H\u001b[m\u001b[m6\u001b[11;61H23\u001b[4;7H\u001b[31m|\u001b[4;33H\u001b[30m\u001b[40m\u001b[1m1.3\u001b[4;63H\u001b[m\u001b[36m6\u001b[5;8H\u001b[30m\u001b[40m \u001b[5;33H0.7\u001b[10;62H\u001b[m\u001b[30m\u001b[46m7\u001b[11;48H\u001b[m\u001b[m7\u001b[11;62H7\u001b[10\u001b[13;48H0\u001b[H\u001b[13;23r\u001b[13;1H\u001bM\u001b[1;24r\u001b[2;33H\u001b[30m\u001b[40m\u001b[1m1.3\u001b[3;7H\u001b[m\u001b[32m|\u001b[3;33H\u001b[30m\u001b[40m\u001b[1m1.3\u001b[4;7H\u001b[m\u001b[32m|\u001b[4;63H\u001b[36m\u001b[1m7\u001b[10;46H\u001b[m\u001b[30m\u001b[46m3.3\u001b[10;61H82\u001b[\u001b[m\u001b[m31\u001b[11\u001b[3;7H\u001b[31m|\u001b[3;33H\u001b[30m\u001b[40m\u001b[1m0.7\u001b[4;8H\u001b[m\u001b[31m|\u001b[4;33H\u001b[30m\u001b[40m\u001b[1m2.0\u001b[4;63H\u001b[m\u001b[36m9\u001b[5;7H\u001b[30m\u001b[40m \u001b[5;35H0\u001b[10;46H\u001b[m\u001b[30m\u001b[46m4.0\u001b[10;62H8\u001b[1\u001b[m\u001b[m5\u001b[12\u001b[13;48H0\u001b[10\u001b[H\u001b[13;23r\u001b[13;1H\u001bM\u001b[1;24r\u001b[2;33H\u001b[30m\u001b[40m\u001b[1m0.7\u001b[3;7H \u001b[3;35H0\u001b[4;7H\u001b[m\u001b[31m|\u001b[30m\u001b[40m\u001b[1m \u001b[4;33H0.7\u001b[4;62H\u001b[m\u001b[36m30\u001b[5;7H\u001b[m\u001b[32m|\u001b[31m|\u001b[5;33H\u001b[30m\u001b[40m\u001b[1m2\u001b[10;46H\u001b[m\u001b[30m\u001b[46m3.3\u001b[10;61H93\u001b[11;48H\u001b[m\u001b[m0\u001b[11;62H8\u001b[13"
     ]
    }
   ],
   "source": []
  }
 ],
 "metadata": {
  "kernelspec": {
   "display_name": "drlnd",
   "language": "python",
   "name": "drlnd"
  },
  "language_info": {
   "codemirror_mode": {
    "name": "ipython",
    "version": 3
   },
   "file_extension": ".py",
   "mimetype": "text/x-python",
   "name": "python",
   "nbconvert_exporter": "python",
   "pygments_lexer": "ipython3",
   "version": "3.6.8"
  }
 },
 "nbformat": 4,
 "nbformat_minor": 2
}
