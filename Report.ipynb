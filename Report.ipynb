{
 "cells": [
  {
   "cell_type": "markdown",
   "metadata": {},
   "source": [
    "# Continuous Control\n",
    "\n",
    "---\n",
    "\n",
    "In this notebook, you will learn how to use the Unity ML-Agents environment for the second project of the [Deep Reinforcement Learning Nanodegree](https://www.udacity.com/course/deep-reinforcement-learning-nanodegree--nd893) program.\n",
    "\n",
    "### 1. Start the Environment\n",
    "\n",
    "We begin by importing the necessary packages.  If the code cell below returns an error, please revisit the project instructions to double-check that you have installed [Unity ML-Agents](https://github.com/Unity-Technologies/ml-agents/blob/master/docs/Installation.md) and [NumPy](http://www.numpy.org/)."
   ]
  },
  {
   "cell_type": "code",
   "execution_count": 1,
   "metadata": {},
   "outputs": [],
   "source": [
    "from unityagents import UnityEnvironment\n",
    "import numpy as np"
   ]
  },
  {
   "cell_type": "markdown",
   "metadata": {},
   "source": [
    "Next, we will start the environment!  **_Before running the code cell below_**, change the `file_name` parameter to match the location of the Unity environment that you downloaded.\n",
    "\n",
    "- **Mac**: `\"path/to/Reacher.app\"`\n",
    "- **Windows** (x86): `\"path/to/Reacher_Windows_x86/Reacher.exe\"`\n",
    "- **Windows** (x86_64): `\"path/to/Reacher_Windows_x86_64/Reacher.exe\"`\n",
    "- **Linux** (x86): `\"path/to/Reacher_Linux/Reacher.x86\"`\n",
    "- **Linux** (x86_64): `\"path/to/Reacher_Linux/Reacher.x86_64\"`\n",
    "- **Linux** (x86, headless): `\"path/to/Reacher_Linux_NoVis/Reacher.x86\"`\n",
    "- **Linux** (x86_64, headless): `\"path/to/Reacher_Linux_NoVis/Reacher.x86_64\"`\n",
    "\n",
    "For instance, if you are using a Mac, then you downloaded `Reacher.app`.  If this file is in the same folder as the notebook, then the line below should appear as follows:\n",
    "```\n",
    "env = UnityEnvironment(file_name=\"Reacher.app\")\n",
    "```"
   ]
  },
  {
   "cell_type": "code",
   "execution_count": 2,
   "metadata": {},
   "outputs": [
    {
     "name": "stderr",
     "output_type": "stream",
     "text": [
      "INFO:unityagents:\n",
      "'Academy' started successfully!\n",
      "Unity Academy name: Academy\n",
      "        Number of Brains: 1\n",
      "        Number of External Brains : 1\n",
      "        Lesson number : 0\n",
      "        Reset Parameters :\n",
      "\t\tgoal_speed -> 1.0\n",
      "\t\tgoal_size -> 5.0\n",
      "Unity brain name: ReacherBrain\n",
      "        Number of Visual Observations (per agent): 0\n",
      "        Vector Observation space type: continuous\n",
      "        Vector Observation space size (per agent): 33\n",
      "        Number of stacked Vector Observation: 1\n",
      "        Vector Action space type: continuous\n",
      "        Vector Action space size (per agent): 4\n",
      "        Vector Action descriptions: , , , \n"
     ]
    }
   ],
   "source": [
    "env = UnityEnvironment(file_name='Reacher_One_Linux_NoVis/Reacher_One_Linux_NoVis.x86_64')"
   ]
  },
  {
   "cell_type": "markdown",
   "metadata": {},
   "source": [
    "Environments contain **_brains_** which are responsible for deciding the actions of their associated agents. Here we check for the first brain available, and set it as the default brain we will be controlling from Python."
   ]
  },
  {
   "cell_type": "code",
   "execution_count": 3,
   "metadata": {},
   "outputs": [
    {
     "name": "stdout",
     "output_type": "stream",
     "text": [
      "Brain name is: ReacherBrain\n"
     ]
    }
   ],
   "source": [
    "# get the default brain\n",
    "brain_name = env.brain_names[0]\n",
    "brain = env.brains[brain_name]\n",
    "print('Brain name is:', brain_name)"
   ]
  },
  {
   "cell_type": "markdown",
   "metadata": {},
   "source": [
    "### 2. Examine the State and Action Spaces\n",
    "\n",
    "In this environment, a double-jointed arm can move to target locations. A reward of `+0.1` is provided for each step that the agent's hand is in the goal location. Thus, the goal of your agent is to maintain its position at the target location for as many time steps as possible.\n",
    "\n",
    "The observation space consists of `33` variables corresponding to position, rotation, velocity, and angular velocities of the arm.  Each action is a vector with four numbers, corresponding to torque applicable to two joints.  Every entry in the action vector must be a number between `-1` and `1`.\n",
    "\n",
    "Run the code cell below to print some information about the environment."
   ]
  },
  {
   "cell_type": "code",
   "execution_count": 4,
   "metadata": {},
   "outputs": [
    {
     "name": "stdout",
     "output_type": "stream",
     "text": [
      "Number of agents: 1\n",
      "Size of each action: 4\n",
      "There are 1 agents. Each observes a state with length: 33\n",
      "The state for the first agent looks like: [ 0.00000000e+00 -4.00000000e+00  0.00000000e+00  1.00000000e+00\n",
      " -0.00000000e+00 -0.00000000e+00 -4.37113883e-08  0.00000000e+00\n",
      "  0.00000000e+00  0.00000000e+00  0.00000000e+00  0.00000000e+00\n",
      "  0.00000000e+00  0.00000000e+00 -1.00000000e+01  0.00000000e+00\n",
      "  1.00000000e+00 -0.00000000e+00 -0.00000000e+00 -4.37113883e-08\n",
      "  0.00000000e+00  0.00000000e+00  0.00000000e+00  0.00000000e+00\n",
      "  0.00000000e+00  0.00000000e+00  5.75471878e+00 -1.00000000e+00\n",
      "  5.55726671e+00  0.00000000e+00  1.00000000e+00  0.00000000e+00\n",
      " -1.68164849e-01]\n"
     ]
    }
   ],
   "source": [
    "# reset the environment\n",
    "env_info = env.reset(train_mode=True)[brain_name]\n",
    "\n",
    "# number of agents\n",
    "num_agents = len(env_info.agents)\n",
    "print('Number of agents:', num_agents)\n",
    "\n",
    "# size of each action\n",
    "action_size = brain.vector_action_space_size\n",
    "print('Size of each action:', action_size)\n",
    "\n",
    "# examine the state space \n",
    "states = env_info.vector_observations\n",
    "state_size = states.shape[1]\n",
    "print('There are {} agents. Each observes a state with length: {}'.format(states.shape[0], state_size))\n",
    "print('The state for the first agent looks like:', states[0])"
   ]
  },
  {
   "cell_type": "markdown",
   "metadata": {},
   "source": [
    "### 3. Take Random Actions in the Environment\n",
    "\n",
    "In the next code cell, you will learn how to use the Python API to control the agent and receive feedback from the environment.\n",
    "\n",
    "Once this cell is executed, you will watch the agent's performance, if it selects an action at random with each time step.  A window should pop up that allows you to observe the agent, as it moves through the environment.  \n",
    "\n",
    "Of course, as part of the project, you'll have to change the code so that the agent is able to use its experience to gradually choose better actions when interacting with the environment!"
   ]
  },
  {
   "cell_type": "code",
   "execution_count": 5,
   "metadata": {},
   "outputs": [],
   "source": [
    "# env_info = env.reset(train_mode=False)[brain_name]     # reset the environment    \n",
    "# states = env_info.vector_observations                  # get the current state (for each agent)\n",
    "# scores = np.zeros(num_agents)                          # initialize the score (for each agent)\n",
    "# while True:\n",
    "#     actions = np.random.randn(num_agents, action_size) # select an action (for each agent)\n",
    "#     actions = np.clip(actions, -1, 1)                  # all actions between -1 and 1\n",
    "#     env_info = env.step(actions)[brain_name]           # send all actions to tne environment\n",
    "#     next_states = env_info.vector_observations         # get next state (for each agent)\n",
    "#     rewards = env_info.rewards                         # get reward (for each agent)\n",
    "#     dones = env_info.local_done                        # see if episode finished\n",
    "#     scores += env_info.rewards                         # update the score (for each agent)\n",
    "#     states = next_states                               # roll over states to next time step\n",
    "#     if np.any(dones):                                  # exit loop if episode finished\n",
    "#         break\n",
    "# print('Total score (averaged over agents) this episode: {}'.format(np.mean(scores)))"
   ]
  },
  {
   "cell_type": "markdown",
   "metadata": {},
   "source": [
    "When finished, you can close the environment."
   ]
  },
  {
   "cell_type": "code",
   "execution_count": 6,
   "metadata": {},
   "outputs": [],
   "source": [
    "# env.close()"
   ]
  },
  {
   "cell_type": "markdown",
   "metadata": {},
   "source": [
    "### 4. It's Your Turn!\n",
    "\n",
    "Now it's your turn to train your own agent to solve the environment!  When training the environment, set `train_mode=True`, so that the line for resetting the environment looks like the following:\n",
    "```python\n",
    "env_info = env.reset(train_mode=True)[brain_name]\n",
    "```"
   ]
  },
  {
   "cell_type": "markdown",
   "metadata": {},
   "source": [
    "In this section the design of the agent and the training process will be described. For the hyper-parameters not mentioned in this section, they will be described in the comment of the code block with actual config dict.\n",
    "\n",
    "#### Agent and model structure\n",
    "We train a DDPG (deep deterministic policy gradients) agent (described in paper [Continuous control with deep reinforcement learning](https://arxiv.org/abs/1509.02971)) to perform the Reacher task. The formal description from this paper is as following:\n",
    "\n",
    "![DDPG algorithm](./ddpg_algorithm.png)\n",
    "\n",
    "\n",
    "\n",
    "The actor and critic are two disjoint feed-forward neural networks, each with 3 hidden layers.Each hidden layer has ReLU as activation, and there is no additional activation function to the output. In our final configuration the actor has (256, 128, 64) units of three hidden units respectively, with about 67k parameters (according to `torchsummary`). The critic has (512, 256, 128) hidden units respectively, yielding about 218k parameters.\n",
    "\n",
    "The weights of the neural nets are initialized as orthogonal vectors (with `nn.init.orthogonal_` method) and the parameters are trained with Adam optimizers.\n",
    "\n",
    "#### Training strategy\n",
    "\n",
    "We apply action repeat strategy to train the agent. The input vector to both actor and critic is the concatenation of three consecutive observation vectors (99 dimensions in total), and each action is also repeated 3 times to interact with the environment. This is an important strategy to make the neural net achieve better performance after convergence.\n",
    "\n",
    "We also apply gradient clip to make training process more stable. Without gradient clip, with relatively high learning rates, the agent starts to perform very badly after a certain point. In this case the 100-episode average reward drops from range 6~10 down to range 0~1. But if a low learning rate is configured the agent learns too slow (does not converge after 5000 episodes).\n",
    "\n",
    "The Ornstein–Uhlenbeck noise is added to the actor with a fixed discount rate of 0.9995 per step. After about 15000 steps the noise level is reduced to <0.001 and will be neglectable afterwards."
   ]
  },
  {
   "cell_type": "code",
   "execution_count": 7,
   "metadata": {},
   "outputs": [],
   "source": [
    "%load_ext autoreload"
   ]
  },
  {
   "cell_type": "code",
   "execution_count": 8,
   "metadata": {},
   "outputs": [
    {
     "name": "stdout",
     "output_type": "stream",
     "text": [
      "Using unity env with brain name \"ReacherBrain\"\n",
      "ReacherBrain\n",
      "----------------------------------------------------------------\n",
      "        Layer (type)               Output Shape         Param #\n",
      "================================================================\n",
      "            Linear-1                  [-1, 512]          53,248\n",
      "            Linear-2                  [-1, 256]         131,328\n",
      "            Linear-3                  [-1, 128]          32,896\n",
      "      BasicNetwork-4                  [-1, 128]               0\n",
      "            Linear-5                    [-1, 1]             129\n",
      "      BasicNetwork-6                    [-1, 1]               0\n",
      "================================================================\n",
      "Total params: 217,601\n",
      "Trainable params: 217,601\n",
      "Non-trainable params: 0\n",
      "----------------------------------------------------------------\n",
      "Input size (MB): 0.00\n",
      "Forward/backward pass size (MB): 0.01\n",
      "Params size (MB): 0.83\n",
      "Estimated Total Size (MB): 0.84\n",
      "----------------------------------------------------------------\n",
      "----------------------------------------------------------------\n",
      "        Layer (type)               Output Shape         Param #\n",
      "================================================================\n",
      "            Linear-1                  [-1, 256]          25,600\n",
      "            Linear-2                  [-1, 128]          32,896\n",
      "            Linear-3                   [-1, 64]           8,256\n",
      "      BasicNetwork-4                   [-1, 64]               0\n",
      "            Linear-5                    [-1, 4]             260\n",
      "      BasicNetwork-6                    [-1, 4]               0\n",
      "================================================================\n",
      "Total params: 67,012\n",
      "Trainable params: 67,012\n",
      "Non-trainable params: 0\n",
      "----------------------------------------------------------------\n",
      "Input size (MB): 0.00\n",
      "Forward/backward pass size (MB): 0.00\n",
      "Params size (MB): 0.26\n",
      "Estimated Total Size (MB): 0.26\n",
      "----------------------------------------------------------------\n",
      "Episode   50: reward = 2.410 (1.316), time = 3.07s (3.06s)\n",
      "Episode  100: reward = 2.260 (2.540), time = 3.09s (3.07s)\n",
      "Episode  150: reward = 7.520 (5.499), time = 3.10s (3.09s))\n",
      "Episode  200: reward = 7.420 (8.269), time = 3.11s (3.10s))\n",
      "Episode  250: reward = 18.240 (11.556), time = 3.11s (3.11s)\n",
      "Episode  300: reward = 15.960 (15.741), time = 3.14s (3.12s)\n",
      "Episode  350: reward = 18.120 (19.056), time = 3.15s (3.14s)\n",
      "Episode  400: reward = 24.200 (22.122), time = 3.16s (3.15s)\n",
      "Episode  450: reward = 30.800 (25.192), time = 3.17s (3.16s)\n",
      "Episode  500: reward = 20.710 (27.043), time = 3.19s (3.18s)\n",
      "Episode  550: reward = 22.960 (28.989), time = 3.20s (3.19s)\n",
      "Episode  600: reward = 19.130 (31.101), time = 3.22s (3.20s)\n",
      "Episode  650: reward = 37.310 (32.036), time = 3.24s (3.22s)\n",
      "Episode  700: reward = 37.170 (32.648), time = 3.26s (3.23s)\n",
      "Episode  750: reward = 36.600 (34.221), time = 3.26s (3.25s)\n",
      "Episode  800: reward = 31.820 (36.071), time = 3.27s (3.26s)\n",
      "Episode  850: reward = 39.480 (36.284), time = 3.29s (3.28s)\n",
      "Episode  900: reward = 39.670 (36.345), time = 3.31s (3.29s)\n",
      "Episode  950: reward = 37.730 (36.939), time = 3.32s (3.31s)\n",
      "Episode 1000: reward = 39.050 (37.102), time = 3.33s (3.32s)\n",
      "Episode 1050: reward = 39.560 (37.389), time = 3.34s (3.34s)\n",
      "Episode 1100: reward = 38.790 (37.834), time = 3.36s (3.35s)\n",
      "Episode 1150: reward = 39.390 (38.012), time = 3.38s (3.36s)\n",
      "Episode 1200: reward = 37.760 (37.935), time = 3.38s (3.38s)\n",
      "Episode 1250: reward = 35.240 (37.840), time = 3.40s (3.39s)\n",
      "Episode 1300: reward = 38.920 (37.651), time = 3.43s (3.41s)\n",
      "Episode 1350: reward = 37.430 (37.678), time = 3.44s (3.43s)\n",
      "Episode 1400: reward = 39.230 (38.078), time = 3.45s (3.44s)\n",
      "Episode 1450: reward = 38.620 (38.478), time = 3.48s (3.46s)\n",
      "Episode 1500: reward = 39.490 (38.224), time = 3.49s (3.47s)\n",
      "Episode 1550: reward = 39.500 (37.942), time = 3.50s (3.49s)\n",
      "Episode 1600: reward = 33.610 (37.663), time = 3.53s (3.51s)\n",
      "Episode 1650: reward = 38.760 (37.348), time = 3.54s (3.52s)\n",
      "Episode 1700: reward = 39.270 (37.553), time = 3.55s (3.54s)\n",
      "Episode 1750: reward = 38.780 (37.390), time = 3.57s (3.56s)\n",
      "Episode 1800: reward = 38.280 (37.237), time = 3.59s (3.57s)\n",
      "Episode 1850: reward = 39.560 (37.699), time = 3.60s (3.58s)\n",
      "Episode 1900: reward = 35.330 (37.972), time = 3.66s (3.60s)\n",
      "Episode 1950: reward = 39.240 (38.069), time = 3.63s (3.62s)\n",
      "Episode 2000: reward = 38.530 (38.157), time = 3.64s (3.64s)\n"
     ]
    }
   ],
   "source": [
    "%autoreload 2\n",
    "from src import *\n",
    "\n",
    "env_info = env.reset(train_mode=True)[brain_name]\n",
    "wrapped_env = EnvWrapper(unity_env=env, brain_name=brain_name)\n",
    "\n",
    "config = {\n",
    "    # Configs about the task.\n",
    "    # The dimension of the observation (before action repeat).\n",
    "    'state_size': 33,\n",
    "    # The dimension of action.\n",
    "    'action_size': 4,\n",
    "    # The bound of actions.\n",
    "    'out_low': -1.,\n",
    "    'out_high': 1.,\n",
    "    \n",
    "    # Configs for the agent.\n",
    "    # The soft update rate for DDPG agent.\n",
    "    'tau': 1e-2,\n",
    "    # The coefficient in reward function.\n",
    "    'gamma': 0.98,\n",
    "    # The scaling factor of the initial weights.\n",
    "    'init_weight_scale': 0.3,\n",
    "    # The max norm of gradient for each optimization step.\n",
    "    'grad_clip': 20.,\n",
    "    # The structure of actor's hidden layers.\n",
    "    'actor_hidden': [256, 128, 64],\n",
    "    # The initial learning rate of the actor.\n",
    "    'actor_lr': 3e-4,\n",
    "    # The structure of critic's hidden layers.\n",
    "    'critic_hidden': [512, 256, 128],\n",
    "    # The initial learning rate of the critic.\n",
    "    'critic_lr': 1e-4,\n",
    "    # Repeat each action 3 times and concatenate 3 consecutive observations\n",
    "    # as actual input fed into the actor/critic networks.\n",
    "    'action_repeat': 3,\n",
    "    \n",
    "    # Configs for the training process.\n",
    "    # The discount rate of OU noise.\n",
    "    'noise_discount': 0.9995,\n",
    "    # The seed for random initializations, including the model weights\n",
    "    # and the noise.\n",
    "    'seed': 1317317,\n",
    "    # The size of replay buffer.\n",
    "    'buffer_size': 1000 * 1000,\n",
    "    # The batch size for each update.\n",
    "    'batch_num': 32,\n",
    "    # The maximum number of episodes to train.\n",
    "    'max_episode_num': 2000,\n",
    "    # The maximum number of steps to train.\n",
    "    'max_step_num': 1e8,\n",
    "    # Only update the model every learn_interval. It turned out that\n",
    "    # this hyper-parameter is not helpful to make training more stable\n",
    "    # so just set it as 1 to learn at every new step.\n",
    "    'learn_interval': 1,\n",
    "    \n",
    "    # Configs for logging.\n",
    "    # The window size to calculate average rewards.\n",
    "    'window_size': 100,\n",
    "    # The output directory of models.\n",
    "    'model_dir': './reacher_model',\n",
    "    # The file to log the reward trajectory.\n",
    "    'log_file': './reacher_log.pickle',\n",
    "    # The interval to print out the rewards.\n",
    "    'log_interval': 50,\n",
    "}\n",
    "\n",
    "print(brain_name)\n",
    "agent = DDPGAgent(config)\n",
    "TrainDDPG(wrapped_env, agent, config)"
   ]
  },
  {
   "cell_type": "markdown",
   "metadata": {},
   "source": [
    "In the logged lines above, each line has 5 numbers: the episode number, the reward of this episode, the 100-episode average reward (in the parenthesis), the running time of this episode and the 100-episode average running time (in the parenthesis)."
   ]
  },
  {
   "cell_type": "code",
   "execution_count": 9,
   "metadata": {},
   "outputs": [
    {
     "data": {
      "image/png": "[encoded data removed]",
      "text/plain": [
       "<Figure size 576x432 with 1 Axes>"
      ]
     },
     "metadata": {
      "needs_background": "light"
     },
     "output_type": "display_data"
    }
   ],
   "source": [
    "%matplotlib inline\n",
    "import matplotlib.pyplot as plt\n",
    "def plot_scores(raw_scores, smooth_scores, figsize=(8,6)):\n",
    "    \"\"\"\n",
    "        Plots the raw_scores and smoothed scores in one single figure.\n",
    "    \"\"\"\n",
    "    assert(len(raw_scores) == len(smooth_scores))\n",
    "    fig = plt.figure(figsize=figsize)\n",
    "    ax = fig.add_subplot(111)\n",
    "    plt.plot(np.arange(len(raw_scores)), raw_scores, label='Raw scores')\n",
    "    plt.plot(np.arange(len(smooth_scores)), smooth_scores, label='Smooth scores (window=100)')\n",
    "    plt.ylabel('Score')\n",
    "    plt.xlabel('Episode #')\n",
    "    plt.legend()\n",
    "    plt.grid()\n",
    "    plt.show()\n",
    "    \n",
    "\n",
    "import pickle\n",
    "logs = pickle.load(open('./reacher_log.pickle', 'rb'))\n",
    "raw, smoothed = logs.get_all_rewards()\n",
    "plot_scores(raw, smoothed)"
   ]
  },
  {
   "cell_type": "markdown",
   "metadata": {},
   "source": [
    "The figure above shows the rewards of the agent receives an average reward (over 100 episodes) (version 1). According to this figure, the performance of the agent converges after about 1000 episodes of training and remains around 38 afterwards. The agent is considered reliably solved this task because it consistantly achieves 30+ rewards after convergence (with a small number of exceptions).\n",
    "\n",
    "To further improve the performance, the simplest way is to make the networks wider (adding more hidden units per layer). It will help the model better approximate the reward function and get better value estimations. I don't know whether making networks deeper will work. In my experience when there are more than 3 hidden layers the training process is slower and less stable (maybe I just didn't find the proper hyper parameters).\n",
    "\n",
    "Another potential improvement is to add N-step estimation and priority experience replay to make the agent learn faster in the early stages."
   ]
  }
 ],
 "metadata": {
  "kernelspec": {
   "display_name": "drlnd",
   "language": "python",
   "name": "drlnd"
  },
  "language_info": {
   "codemirror_mode": {
    "name": "ipython",
    "version": 3
   },
   "file_extension": ".py",
   "mimetype": "text/x-python",
   "name": "python",
   "nbconvert_exporter": "python",
   "pygments_lexer": "ipython3",
   "version": "3.6.8"
  }
 },
 "nbformat": 4,
 "nbformat_minor": 2
}
